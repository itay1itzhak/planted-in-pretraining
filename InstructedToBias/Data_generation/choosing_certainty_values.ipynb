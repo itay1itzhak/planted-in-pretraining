{
 "cells": [
  {
   "cell_type": "markdown",
   "metadata": {},
   "source": [
    "# Certainty Values Finder Assistent Tool"
   ]
  },
  {
   "cell_type": "markdown",
   "metadata": {},
   "source": [
    "### Purpose of the Notebook:\n",
    "This notebook serves as a supplementary tool for deriving values related to the certainty effect. It ensures that the expected utility remains consistent between treatment and control versions for each sub-type. The tool facilitates the creation and validation of new values, ensuring their accuracy. While not mandatory, it is recommended for generating new certainty effect values when necessary."
   ]
  },
  {
   "cell_type": "markdown",
   "metadata": {},
   "source": [
    "### DEVIDE_OPTION_A_TO_THREE_PROBS"
   ]
  },
  {
   "cell_type": "code",
   "execution_count": 19,
   "metadata": {},
   "outputs": [
    {
     "name": "stdout",
     "output_type": "stream",
     "text": [
      "a*p_1 + b*p_2 = 4861.5\n",
      "c = 4850\n",
      "Is Option A better in utility - (c < a*p_1 + b*p_2) = !True!\n",
      "====================\n",
      "a*p_1 = 2000.0\n",
      "c * (p_1 + 0.01) = 1988.5000000000002\n",
      "Is Option A better in utility WITHOUT bias - (a*p_1 > c * (p_1 + 0.01)) = !True!\n"
     ]
    }
   ],
   "source": [
    "# \"[33, 34, 35, 20, 25, 25, 25][66, 65, 64, 79, 74, 74, 74][1, 1, 1, 1, 1, 1, 1][2500, 3000, 3500, 1000, 1000, 1500, 5000][2400, 2500, 2600, 800, 850, 1300, 4800][0, 0, 0, 0, 0, 0, 0][2400, 2500, 2600, 800, 850, 1300, 4800][100, 100, 100, 100, 100, 100, 100]\",\n",
    "a = 5000\n",
    "b = 4850\n",
    "p_1 = 0.40\n",
    "p_2 = 0.59\n",
    "c = 4850\n",
    "print(f\"a*p_1 + b*p_2 = {a*p_1 + b*p_2}\")\n",
    "print(f\"c = {c}\")\n",
    "print(f\"Is Option A better in utility - (c < a*p_1 + b*p_2) = !{c < a*p_1 + b*p_2}!\")\n",
    "print(\"=\"*20)\n",
    "print(f\"a*p_1 = {a*p_1}\")\n",
    "print(f\"c * (p_1 + 0.01) = {c * (p_1 + 0.01)}\")\n",
    "print(f\"Is Option A better in utility WITHOUT bias - (a*p_1 > c * (p_1 + 0.01)) = !{a*p_1 > c * (p_1 + 0.01)}!\")"
   ]
  },
  {
   "cell_type": "code",
   "execution_count": 10,
   "metadata": {},
   "outputs": [
    {
     "name": "stdout",
     "output_type": "stream",
     "text": [
      "2400:9.0,\n",
      "2500:145.0,\n",
      "2600:289.0,\n",
      "800:32.0,\n",
      "850:29.0,\n",
      "1300:37.0,\n",
      "4800:2.0,\n"
     ]
    }
   ],
   "source": [
    "all_a = [2500, 3000, 3500, 1000, 1000, 1500, 5000]\n",
    "all_a_p = [0.33, 0.34, 0.35, 0.20, 0.25, 0.25, 0.25]\n",
    "all_b = [2400, 2500, 2600, 800, 850, 1300, 4800]\n",
    "all_b_p = [0.66, 0.65, 0.64, 0.79, 0.74, 0.74, 0.74]\n",
    "all_c = [2400, 2500, 2600, 800, 850, 1300, 4800]\n",
    "all_c_p = [1, 1, 1, 1, 1, 1, 1]\n",
    "\n",
    "\n",
    "def print_all_ut(all_a,all_a_p,all_b,all_b_p,all_c,all_c_p):\n",
    "    def get_utility(a,p_a,b=0,p_b=0,c=0,c_p=0):\n",
    "        return a*p_a + b*p_b + c*c_p\n",
    "\n",
    "    for i in range(len(all_a)):\n",
    "        option_a_ut = get_utility(all_a[i],all_a_p[i],all_b[i],all_b_p[i])\n",
    "        option_b_ut = get_utility(all_c[i],all_c_p[i])\n",
    "        print(f\"{all_c[i]}:{option_a_ut - option_b_ut},\")\n",
    "\n",
    "print_all_ut(all_a,all_a_p,all_b,all_b_p,all_c,all_c_p)"
   ]
  },
  {
   "cell_type": "markdown",
   "metadata": {},
   "source": [
    "### DEVIDE_OPTION_A_TO_TWO_PROBS"
   ]
  },
  {
   "cell_type": "code",
   "execution_count": 46,
   "metadata": {},
   "outputs": [
    {
     "name": "stdout",
     "output_type": "stream",
     "text": [
      "a*p_1 = 4800.0\n",
      "b = 4000\n",
      "Is Option A better in utility - (b < a*p_1 ) =\n",
      " !True!\n",
      "====================\n",
      "a*p_1_no_bias = 1200.0\n",
      "b*p_2_no_bias = 1000.0\n",
      "Is Option A better in utility WITHOUT bias - (a*p_1_no_bias> b*p_2_no_bias) =\n",
      " !True!\n"
     ]
    }
   ],
   "source": [
    "\n",
    "a = 6000\n",
    "b = 4000\n",
    "p_1 = 0.80\n",
    "p_1_no_bias = 0.20\n",
    "p_2_no_bias = 0.25\n",
    "\n",
    "print(f\"{a*p_1 = }\")\n",
    "print(f\"{b = }\")\n",
    "print(f\"Is Option A better in utility - (b < a*p_1 ) =\\n !{b < a*p_1 }!\")\n",
    "print(\"=\"*20)\n",
    "print(f\"a*p_1_no_bias = {a*p_1_no_bias}\")\n",
    "print(f\"b*p_2_no_bias = {b*p_2_no_bias}\")\n",
    "print(f\"Is Option A better in utility WITHOUT bias - (a*p_1_no_bias> b*p_2_no_bias) =\\n !{a*p_1_no_bias> b*p_2_no_bias}!\")"
   ]
  },
  {
   "cell_type": "code",
   "execution_count": 11,
   "metadata": {},
   "outputs": [
    {
     "name": "stdout",
     "output_type": "stream",
     "text": [
      "3000:200.0,\n",
      "3000:1000.0,\n",
      "4000:800.0,\n",
      "4000:250.0,\n",
      "5000:100.0,\n",
      "2000:100.0,\n",
      "1000:200.0,\n"
     ]
    }
   ],
   "source": [
    "all_a = [4000, 5000, 6000, 5000, 6000, 3000, 2000]\n",
    "all_a_p = [0.80, 0.80, 0.80, 0.85, 0.85, 0.70, 0.60]\n",
    "all_b = [0, 0, 0, 0, 0, 0, 0]\n",
    "all_b_p = [0.20, 0.20, 0.20, 0.15, 0.15, 0.30, 0.40]\n",
    "all_c = [3000, 3000, 4000, 4000, 5000, 2000, 1000]\n",
    "all_c_p = [1, 1, 1, 1, 1, 1, 1]\n",
    "\n",
    "\n",
    "def print_all_ut(all_a,all_a_p,all_b,all_b_p,all_c,all_c_p):\n",
    "    def get_utility(a,p_a,b=0,p_b=0,c=0,c_p=0):\n",
    "        return a*p_a + b*p_b + c*c_p\n",
    "\n",
    "    for i in range(len(all_a)):\n",
    "        option_a_ut = get_utility(all_a[i],all_a_p[i],all_b[i],all_b_p[i])\n",
    "        option_b_ut = get_utility(all_c[i],all_c_p[i])\n",
    "        print(f\"{all_c[i]}:{option_a_ut - option_b_ut},\")\n",
    "\n",
    "print_all_ut(all_a,all_a_p,all_b,all_b_p,all_c,all_c_p)"
   ]
  },
  {
   "cell_type": "markdown",
   "metadata": {},
   "source": [
    "### NOT_PROBABLE"
   ]
  },
  {
   "cell_type": "code",
   "execution_count": 44,
   "metadata": {},
   "outputs": [
    {
     "name": "stdout",
     "output_type": "stream",
     "text": [
      "a*p_1 = 149.0\n",
      "b*p_2 = 149.0\n",
      "Are Options the same in utility =\n",
      " !True!\n",
      "====================\n",
      "a*p_1_no_bias = 0.596\n",
      "b*p_2_no_bias = 0.596\n",
      "Are Options the same in utility WITHOUT bias =\n",
      " !True!\n"
     ]
    }
   ],
   "source": [
    "\n",
    "# this has a rule! a should be 2*b, and p_1 should be 2*p_2, also p_1_no_bias should be 2 * p_2_no_bias\n",
    "# If so, then the options are the same in utility\n",
    "a = 298\n",
    "b = 149\n",
    "p_1 = 0.50\n",
    "p_2 = p_1 * 2\n",
    "p_1_no_bias = 0.002\n",
    "p_2_no_bias = p_1_no_bias * 2\n",
    "\n",
    "print(f\"{a*p_1 = }\")\n",
    "print(f\"{b*p_2 = }\")\n",
    "print(f\"Are Options the same in utility =\\n {b*p_2 == a*p_1 }\")\n",
    "print(\"=\"*20)\n",
    "print(f\"a*p_1_no_bias = {a*p_1_no_bias}\")\n",
    "print(f\"b*p_2_no_bias = {b*p_2_no_bias}\")\n",
    "print(f\"Are Options the same in utility WITHOUT bias =\\n {a*p_1_no_bias == b*p_2_no_bias}\")"
   ]
  },
  {
   "cell_type": "code",
   "execution_count": null,
   "metadata": {},
   "outputs": [],
   "source": []
  }
 ],
 "metadata": {
  "kernelspec": {
   "display_name": "nscb",
   "language": "python",
   "name": "python3"
  },
  "language_info": {
   "codemirror_mode": {
    "name": "ipython",
    "version": 3
   },
   "file_extension": ".py",
   "mimetype": "text/x-python",
   "name": "python",
   "nbconvert_exporter": "python",
   "pygments_lexer": "ipython3",
   "version": "3.10.6"
  },
  "orig_nbformat": 4
 },
 "nbformat": 4,
 "nbformat_minor": 2
}
